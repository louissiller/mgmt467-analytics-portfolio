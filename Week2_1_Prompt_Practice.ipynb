{
  "cells": [
    {
      "cell_type": "markdown",
      "metadata": {
        "id": "view-in-github",
        "colab_type": "text"
      },
      "source": [
        "<a href=\"https://colab.research.google.com/github/louissiller/mgmt467-analytics-portfolio/blob/main/Week2_1_Prompt_Practice.ipynb\" target=\"_parent\"><img src=\"https://colab.research.google.com/assets/colab-badge.svg\" alt=\"Open In Colab\"/></a>"
      ]
    },
    {
      "cell_type": "markdown",
      "id": "eebaff9c",
      "metadata": {
        "id": "eebaff9c"
      },
      "source": [
        "\n",
        "# Week 2.1 — Prompt Practice: Git, GitHub, and Google Colab\n",
        "\n",
        "**Course:** MGMT 467 — AI‑Assisted Big Data Analytics in the Cloud  \n",
        "**Session:** Tuesday (2.1) — Developer Environment Setup\n",
        "\n",
        "### How to use this notebook\n",
        "- This is a **practice and planning** notebook: most cells are **Markdown** with copy‑pasteable prompt templates you will run in your AI tool (e.g., Gemini).  \n",
        "- After you run a prompt in your AI tool, **summarize what you learned** in the provided **Reflection** cells here.  \n",
        "- When a task asks for a short code snippet (e.g., Git or Colab), paste the **final, validated** snippet in the designated cell and add a one‑sentence explanation.\n",
        "\n",
        "> **Validate everything.** Cross‑check AI outputs with official docs or a second prompt. If two sources disagree, note it and explain which you chose and why.\n"
      ]
    },
    {
      "cell_type": "markdown",
      "id": "de4883d8",
      "metadata": {
        "id": "de4883d8"
      },
      "source": [
        "\n",
        "---\n",
        "## Prompt Patterns Quick Reference\n",
        "\n",
        "Use these as starting points and **adapt** them to your context.\n",
        "\n",
        "### 1) Zero‑Shot (definition/explanation)\n",
        "```\n",
        "Act as a clear, concise tutor for first‑year CS students.\n",
        "Explain {TOPIC} in 5 bullet points max. Include one analogy and one pitfall to avoid.\n",
        "```\n",
        "\n",
        "### 2) Few‑Shot (guided answers consistent with examples)\n",
        "```\n",
        "You will answer in the same style as the examples.\n",
        "\n",
        "Q: What is a \"commit\" in Git?  \n",
        "A: A snapshot of tracked file changes with a message explaining why.\n",
        "\n",
        "Q: What is \"pushing\" in Git?  \n",
        "A: Sending local commits to a remote repository so others can see them.\n",
        "\n",
        "Q: {YOUR QUESTION}\n",
        "A:\n",
        "```\n",
        "\n",
        "### 3) Step‑by‑Step Reasoning (show key steps)\n",
        "```\n",
        "I need a **numbered, step‑by‑step plan** for {TASK}.\n",
        "For each step: the goal, one command (if applicable), and a 1‑line verification check.\n",
        "Avoid hidden steps; keep it to 6–8 steps total.\n",
        "```\n"
      ]
    },
    {
      "cell_type": "markdown",
      "id": "3f07055e",
      "metadata": {
        "id": "3f07055e"
      },
      "source": [
        "\n",
        "---\n",
        "## Group A — Git Fundamentals (3 questions)\n",
        "\n",
        "### A1. What problem does Git solve? How is it different from file syncing?\n",
        "**Use:** Zero‑Shot, then Few‑Shot for refinement.  \n",
        "**Run this prompt:**\n",
        "```\n",
        "Act as a version control coach.\n",
        "Explain what Git is and the specific problem it solves compared to simple file syncing (e.g., Drive).\n",
        "List 3 concrete benefits for a small analytics team.\n",
        "End with a 2‑sentence analogy.\n",
        "```\n",
        "**Reflection (2–4 sentences):** What did you learn that you didn’t already know?\n"
      ]
    },
    {
      "cell_type": "markdown",
      "source": [
        "I learned that Git is a distributed version control system that allows for collaborative software development and managinng of complex project histories. With Git, working together in large projects becomes less complex as changes can be tracked without overwriting content created by other developers."
      ],
      "metadata": {
        "id": "FI1lKNXe3Cid"
      },
      "id": "FI1lKNXe3Cid"
    },
    {
      "cell_type": "markdown",
      "id": "b364c38d",
      "metadata": {
        "id": "b364c38d"
      },
      "source": [
        "\n",
        "### A2. Commit → Branch → Merge: the minimal workflow\n",
        "**Use:** Step‑by‑Step Reasoning.  \n",
        "**Run this prompt:**\n",
        "```\n",
        "Create a minimal, step‑by‑step workflow to:\n",
        "1) initialize a repo, 2) create and switch to a feature branch, 3) commit changes,\n",
        "4) merge back to main locally, 5) push to a remote named \"origin\".\n",
        "For each step include: goal, command, and a quick verification.\n",
        "```\n",
        "**Paste final validated commands below and add one sentence on when to branch.**\n"
      ]
    },
    {
      "cell_type": "code",
      "execution_count": 7,
      "id": "7fe63d5f",
      "metadata": {
        "id": "7fe63d5f"
      },
      "outputs": [],
      "source": [
        "\n",
        "# Paste your validated minimal Git workflow commands here as comments, e.g.:\n",
        "# git init\n",
        "# git checkout -b feature/your-feature-name\n",
        "# git add .\n",
        "# git commit -m \"Descriptive commit message\"\n",
        "# git status\n",
        "# git log\n",
        "# git checkout main\n",
        "# git merge feature/your-feature-name --no-ff\n",
        "# git log\n",
        "# git remote add origin <REMOTE_URL>\n",
        "# git push -u origin main\n"
      ]
    },
    {
      "cell_type": "markdown",
      "source": [
        "Always branch for any significant new feature, bug fix, or experiment to keep your work isolated from your main codebase and facilitate collaboration."
      ],
      "metadata": {
        "id": "OotCWb7E5J4m"
      },
      "id": "OotCWb7E5J4m"
    },
    {
      "cell_type": "markdown",
      "id": "39cd8eba",
      "metadata": {
        "id": "39cd8eba"
      },
      "source": [
        "\n",
        "### A3. Resolving a simple merge conflict\n",
        "**Use:** Step‑by‑Step Reasoning.  \n",
        "**Run this prompt:**\n",
        "```\n",
        "I have a merge conflict in README.md after merging a feature branch into main.\n",
        "Give a 6-step recipe to resolve it safely:\n",
        "- how to open the file, identify conflict markers, choose/merge lines,\n",
        "- add/commit the resolution, verify the merge, and push.\n",
        "Include one common pitfall and how to avoid it.\n",
        "```\n",
        "**Reflection:** What’s your personal checklist to avoid conflicts getting messy?\n"
      ]
    },
    {
      "cell_type": "markdown",
      "source": [
        "Personal checklist to avoid conflicts getting messy:\n",
        "\n",
        "- Pull the latest changes from main before starting new work on a feature branch.\n",
        "- Make small, frequent commits with clear messages.\n",
        "- Merge from main into your feature branch regularly to integrate upstream changes early.\n",
        "- Communicate with your team about what you are working on to avoid multiple people modifying the same parts of a file simultaneously."
      ],
      "metadata": {
        "id": "D8DFSOxs5w1D"
      },
      "id": "D8DFSOxs5w1D"
    },
    {
      "cell_type": "markdown",
      "id": "6028ce17",
      "metadata": {
        "id": "6028ce17"
      },
      "source": [
        "\n",
        "---\n",
        "## Group B — GitHub Collaboration (3 questions)\n",
        "\n",
        "### B1. Branch vs. Fork vs. Clone\n",
        "**Use:** Few‑Shot to drive crisp distinctions with examples.  \n",
        "**Run this prompt:**\n",
        "```\n",
        "Answer using this format:\n",
        "Term — One-sentence definition — When to use — One example.\n",
        "\n",
        "Branch —\n",
        "Fork —\n",
        "Clone —\n",
        "```\n",
        "**Reflection:** Which one will your team use for this course and why?\n"
      ]
    },
    {
      "cell_type": "markdown",
      "source": [
        "Our team will use Branch and Fork. Branch is a separate line of development within a single repository that we use for working on a new feature, bug fix, or experiment in isolation. Fork is a copy of a repository under a different user or account, used when we want to start our project starting from a repository."
      ],
      "metadata": {
        "id": "CFZ5-yST7d_o"
      },
      "id": "CFZ5-yST7d_o"
    },
    {
      "cell_type": "markdown",
      "id": "2c819dea",
      "metadata": {
        "id": "2c819dea"
      },
      "source": [
        "\n",
        "### B2. Pull Request (PR) checklist for this course\n",
        "**Use:** Step‑by‑Step Reasoning.  \n",
        "**Run this prompt:**\n",
        "```\n",
        "Write a \"PR Checklist\" for a university analytics course team repo.\n",
        "Include: naming convention, description template, screenshots policy, reviewers, CI checks (if any),\n",
        "and a revert plan. Limit to 8 concise checklist items.\n",
        "```\n",
        "**Paste your final checklist below.**\n"
      ]
    },
    {
      "cell_type": "code",
      "execution_count": 8,
      "id": "dd5e9adb",
      "metadata": {
        "colab": {
          "base_uri": "https://localhost:8080/"
        },
        "id": "dd5e9adb",
        "outputId": "c68979c9-573f-434b-d96b-e8fd7283bbe1"
      },
      "outputs": [
        {
          "output_type": "execute_result",
          "data": {
            "text/plain": [
              "['PR title: <unit>-<lab>-<short-desc> (e.g., u1-lab2-eda-trends)',\n",
              " 'Description includes: problem, approach, key files, and how to test',\n",
              " 'Attach 1–2 screenshots (plots/dashboards) if visuals changed',\n",
              " 'Link related issue or assignment requirement',\n",
              " 'Request review from 1 teammate; no self-merge',\n",
              " 'Passes notebook re-run without errors (Runtime > Run all)',\n",
              " 'No secrets, tokens, or PII in code or outputs',\n",
              " 'Revert plan: how to roll back quickly if needed']"
            ]
          },
          "metadata": {},
          "execution_count": 8
        }
      ],
      "source": [
        "\n",
        "# Example (edit to your team's needs)\n",
        "pr_checklist = [\n",
        "    \"PR title: <unit>-<lab>-<short-desc> (e.g., u1-lab2-eda-trends)\",\n",
        "    \"Description includes: problem, approach, key files, and how to test\",\n",
        "    \"Attach 1–2 screenshots (plots/dashboards) if visuals changed\",\n",
        "    \"Link related issue or assignment requirement\",\n",
        "    \"Request review from 1 teammate; no self-merge\",\n",
        "    \"Passes notebook re-run without errors (Runtime > Run all)\",\n",
        "    \"No secrets, tokens, or PII in code or outputs\",\n",
        "    \"Revert plan: how to roll back quickly if needed\"\n",
        "]\n",
        "pr_checklist\n"
      ]
    },
    {
      "cell_type": "markdown",
      "metadata": {
        "id": "9e0dd838"
      },
      "source": [
        "Here is a suggested PR Checklist for your team's repository:\n",
        "\n",
        "*   **PR Title:** Descriptive, following a pattern like `<unit>-<lab>-<short-desc>` (e.g., `u1-lab2-eda-trends`).\n",
        "*   **Description:** Briefly explains the problem solved, the approach taken, key files modified, and how to test the changes.\n",
        "*   **Visuals (if applicable):** Include 1–2 screenshots (plots, dashboards) if the PR introduces or changes visualizations.\n",
        "*   **Linked Issue/Assignment:** Clearly link to the relevant course assignment or team issue being addressed.\n",
        "*   **Reviewers:** Request review from at least one designated teammate; avoid self-merging.\n",
        "*   **CI Checks (if implemented):** Ensure all automated checks (like code formatting or basic tests) pass.\n",
        "*   **Secrets/PII:** Verify that no secrets, API keys, or Personally Identifiable Information are accidentally included in code or output.\n",
        "*   **Revert Plan:** Briefly describe how to quickly revert the changes if necessary (e.g., \"revert this PR\")."
      ],
      "id": "9e0dd838"
    },
    {
      "cell_type": "markdown",
      "id": "3be4b08d",
      "metadata": {
        "id": "3be4b08d"
      },
      "source": [
        "\n",
        "### B3. Protected `main` workflow\n",
        "**Use:** Zero‑Shot + Step‑by‑Step.  \n",
        "**Run this prompt:**\n",
        "```\n",
        "Explain how to protect the main branch in a GitHub repo for a class team:\n",
        "- Require PRs, at least one review, and passing checks\n",
        "- Disallow force-pushes\n",
        "Provide a numbered setup guide and a 3-line \"why this matters\" explanation.\n",
        "```\n",
        "**Reflection:** Which protection rules will you actually enable first, and why?\n"
      ]
    },
    {
      "cell_type": "markdown",
      "source": [
        "The first rule to enable is \"Require a pull request before merging\" in the branch name pattern main. Afterwards we should enable \"Require approvals\", followed by \"Require status checks to pass before merging\", and \"Require linear history\". Also check nox for \"include administrators\" and uncheck the box for \"Allow force pushes\"."
      ],
      "metadata": {
        "id": "KVs_5ea1-QZy"
      },
      "id": "KVs_5ea1-QZy"
    },
    {
      "cell_type": "markdown",
      "id": "8d94b30a",
      "metadata": {
        "id": "8d94b30a"
      },
      "source": [
        "\n",
        "---\n",
        "## Group C — Google Colab for Analytics (3 questions)\n",
        "\n",
        "### C1. Why Colab? Benefits & limits for this course\n",
        "**Use:** Zero‑Shot.  \n",
        "**Run this prompt:**\n",
        "```\n",
        "Act as a data science tech advisor.\n",
        "List 5 advantages and 3 limitations of Google Colab for analytics coursework.\n",
        "Tailor to a class that uses BigQuery and dashboards. Keep it to bullet points.\n",
        "```\n",
        "**Reflection:** Which two advantages will help *you* most this semester?\n"
      ]
    },
    {
      "cell_type": "markdown",
      "source": [
        "1. Easy sharing and collaboration: Allows to share notebooks with my peers to facilitate team projects and instructor feedback.\n",
        "2. Pre-installed libraries: Reduces time spent on package management and allows usage of data science libraries."
      ],
      "metadata": {
        "id": "BEPTf9u7_iQj"
      },
      "id": "BEPTf9u7_iQj"
    },
    {
      "cell_type": "markdown",
      "id": "1b96debe",
      "metadata": {
        "id": "1b96debe"
      },
      "source": [
        "\n",
        "### C2. Authenticate to GCP in Colab and query BigQuery\n",
        "**Use:** Step‑by‑Step Reasoning for a minimal working snippet.  \n",
        "**Run this prompt:**\n",
        "```\n",
        "Provide a minimal Colab snippet to:\n",
        "1) authenticate to Google Cloud,\n",
        "2) run a simple BigQuery SQL (e.g., SELECT 1),\n",
        "3) get results into a pandas DataFrame,\n",
        "4) print row count.\n",
        "Include a one-line note on costs and safe use of LIMIT.\n",
        "```\n",
        "**Paste your final validated code below.**\n"
      ]
    },
    {
      "cell_type": "code",
      "metadata": {
        "colab": {
          "base_uri": "https://localhost:8080/",
          "height": 97
        },
        "id": "c39febfb",
        "outputId": "4a68ebe8-170b-4ae6-8300-565bda43ddd2"
      },
      "source": [
        "# 1) Authenticate to Google Cloud\n",
        "# This will prompt you to log in and grant permissions\n",
        "from google.colab import auth\n",
        "auth.authenticate_user()\n",
        "\n",
        "# 2) Run a simple BigQuery SQL and get results into a pandas DataFrame\n",
        "from google.cloud import bigquery\n",
        "# Replace <YOUR_PROJECT_ID> with your actual GCP project ID\n",
        "client = bigquery.Client(project=\"mgmt467-71800\")\n",
        "\n",
        "# Use a simple query, e.g., SELECT 1\n",
        "# For larger queries, consider using LIMIT during exploration to control costs and memory usage.\n",
        "# BigQuery costs are based on the amount of data processed by your queries.\n",
        "sql = \"SELECT 1 AS test_col\" # Minimal example\n",
        "# Or use a sample from your data:\n",
        "# sql = \"SELECT * FROM `your_project_id.your_dataset.your_table` LIMIT 10\" # Example query\n",
        "\n",
        "df = client.query(sql).result().to_dataframe()\n",
        "\n",
        "# 3) Print row count\n",
        "print(\"Rows:\", len(df))\n",
        "\n",
        "# 4) Display the first few rows\n",
        "display(df.head())"
      ],
      "id": "c39febfb",
      "execution_count": 9,
      "outputs": [
        {
          "output_type": "stream",
          "name": "stdout",
          "text": [
            "Rows: 1\n"
          ]
        },
        {
          "output_type": "display_data",
          "data": {
            "text/plain": [
              "   test_col\n",
              "0         1"
            ],
            "text/html": [
              "\n",
              "  <div id=\"df-13d7bd14-2351-4e07-8748-32f728d20c53\" class=\"colab-df-container\">\n",
              "    <div>\n",
              "<style scoped>\n",
              "    .dataframe tbody tr th:only-of-type {\n",
              "        vertical-align: middle;\n",
              "    }\n",
              "\n",
              "    .dataframe tbody tr th {\n",
              "        vertical-align: top;\n",
              "    }\n",
              "\n",
              "    .dataframe thead th {\n",
              "        text-align: right;\n",
              "    }\n",
              "</style>\n",
              "<table border=\"1\" class=\"dataframe\">\n",
              "  <thead>\n",
              "    <tr style=\"text-align: right;\">\n",
              "      <th></th>\n",
              "      <th>test_col</th>\n",
              "    </tr>\n",
              "  </thead>\n",
              "  <tbody>\n",
              "    <tr>\n",
              "      <th>0</th>\n",
              "      <td>1</td>\n",
              "    </tr>\n",
              "  </tbody>\n",
              "</table>\n",
              "</div>\n",
              "    <div class=\"colab-df-buttons\">\n",
              "\n",
              "  <div class=\"colab-df-container\">\n",
              "    <button class=\"colab-df-convert\" onclick=\"convertToInteractive('df-13d7bd14-2351-4e07-8748-32f728d20c53')\"\n",
              "            title=\"Convert this dataframe to an interactive table.\"\n",
              "            style=\"display:none;\">\n",
              "\n",
              "  <svg xmlns=\"http://www.w3.org/2000/svg\" height=\"24px\" viewBox=\"0 -960 960 960\">\n",
              "    <path d=\"M120-120v-720h720v720H120Zm60-500h600v-160H180v160Zm220 220h160v-160H400v160Zm0 220h160v-160H400v160ZM180-400h160v-160H180v160Zm440 0h160v-160H620v160ZM180-180h160v-160H180v160Zm440 0h160v-160H620v160Z\"/>\n",
              "  </svg>\n",
              "    </button>\n",
              "\n",
              "  <style>\n",
              "    .colab-df-container {\n",
              "      display:flex;\n",
              "      gap: 12px;\n",
              "    }\n",
              "\n",
              "    .colab-df-convert {\n",
              "      background-color: #E8F0FE;\n",
              "      border: none;\n",
              "      border-radius: 50%;\n",
              "      cursor: pointer;\n",
              "      display: none;\n",
              "      fill: #1967D2;\n",
              "      height: 32px;\n",
              "      padding: 0 0 0 0;\n",
              "      width: 32px;\n",
              "    }\n",
              "\n",
              "    .colab-df-convert:hover {\n",
              "      background-color: #E2EBFA;\n",
              "      box-shadow: 0px 1px 2px rgba(60, 64, 67, 0.3), 0px 1px 3px 1px rgba(60, 64, 67, 0.15);\n",
              "      fill: #174EA6;\n",
              "    }\n",
              "\n",
              "    .colab-df-buttons div {\n",
              "      margin-bottom: 4px;\n",
              "    }\n",
              "\n",
              "    [theme=dark] .colab-df-convert {\n",
              "      background-color: #3B4455;\n",
              "      fill: #D2E3FC;\n",
              "    }\n",
              "\n",
              "    [theme=dark] .colab-df-convert:hover {\n",
              "      background-color: #434B5C;\n",
              "      box-shadow: 0px 1px 3px 1px rgba(0, 0, 0, 0.15);\n",
              "      filter: drop-shadow(0px 1px 2px rgba(0, 0, 0, 0.3));\n",
              "      fill: #FFFFFF;\n",
              "    }\n",
              "  </style>\n",
              "\n",
              "    <script>\n",
              "      const buttonEl =\n",
              "        document.querySelector('#df-13d7bd14-2351-4e07-8748-32f728d20c53 button.colab-df-convert');\n",
              "      buttonEl.style.display =\n",
              "        google.colab.kernel.accessAllowed ? 'block' : 'none';\n",
              "\n",
              "      async function convertToInteractive(key) {\n",
              "        const element = document.querySelector('#df-13d7bd14-2351-4e07-8748-32f728d20c53');\n",
              "        const dataTable =\n",
              "          await google.colab.kernel.invokeFunction('convertToInteractive',\n",
              "                                                    [key], {});\n",
              "        if (!dataTable) return;\n",
              "\n",
              "        const docLinkHtml = 'Like what you see? Visit the ' +\n",
              "          '<a target=\"_blank\" href=https://colab.research.google.com/notebooks/data_table.ipynb>data table notebook</a>'\n",
              "          + ' to learn more about interactive tables.';\n",
              "        element.innerHTML = '';\n",
              "        dataTable['output_type'] = 'display_data';\n",
              "        await google.colab.output.renderOutput(dataTable, element);\n",
              "        const docLink = document.createElement('div');\n",
              "        docLink.innerHTML = docLinkHtml;\n",
              "        element.appendChild(docLink);\n",
              "      }\n",
              "    </script>\n",
              "  </div>\n",
              "\n",
              "\n",
              "    </div>\n",
              "  </div>\n"
            ],
            "application/vnd.google.colaboratory.intrinsic+json": {
              "type": "dataframe",
              "summary": "{\n  \"name\": \"display(df\",\n  \"rows\": 1,\n  \"fields\": [\n    {\n      \"column\": \"test_col\",\n      \"properties\": {\n        \"dtype\": \"Int64\",\n        \"num_unique_values\": 1,\n        \"samples\": [\n          1\n        ],\n        \"semantic_type\": \"\",\n        \"description\": \"\"\n      }\n    }\n  ]\n}"
            }
          },
          "metadata": {}
        }
      ]
    },
    {
      "cell_type": "code",
      "execution_count": 10,
      "id": "5d389386",
      "metadata": {
        "id": "5d389386"
      },
      "outputs": [],
      "source": [
        "\n",
        "# Minimal BigQuery test in Colab (paste your validated version)\n",
        "# from google.colab import auth\n",
        "# auth.authenticate_user()\n",
        "#\n",
        "# from google.cloud import bigquery\n",
        "# client = bigquery.Client(project=\"<YOUR_PROJECT_ID>\")\n",
        "# sql = \"SELECT 1 AS test_col\"\n",
        "# df = client.query(sql).result().to_dataframe()\n",
        "# print(\"Rows:\", len(df))\n",
        "# df.head()\n"
      ]
    },
    {
      "cell_type": "markdown",
      "id": "6c63c1ce",
      "metadata": {
        "id": "6c63c1ce"
      },
      "source": [
        "\n",
        "### C3. Save notebooks to GitHub from Colab\n",
        "**Use:** Step‑by‑Step Reasoning.  \n",
        "**Run this prompt:**\n",
        "```\n",
        "Give two safe workflows to keep Colab notebooks versioned in GitHub:\n",
        "(A) using \"File > Save a copy in GitHub\",\n",
        "(B) local git with Drive sync (brief).\n",
        "Provide steps and cautions (e.g., large outputs, secrets) for each.\n",
        "```\n",
        "**Reflection:** Which workflow will your team adopt and why?\n"
      ]
    },
    {
      "cell_type": "markdown",
      "source": [
        "The team will adopt workflow (A), because it is good for simple saves directly from Colab. It is a sufficient way for basic versioning due to its simplicity."
      ],
      "metadata": {
        "id": "zo3dgQXTCHI-"
      },
      "id": "zo3dgQXTCHI-"
    },
    {
      "cell_type": "markdown",
      "id": "a181717a",
      "metadata": {
        "id": "a181717a"
      },
      "source": [
        "\n",
        "---\n",
        "## Capstone Synthesis (end of class)\n",
        "\n",
        "**Scenario:** Your team needs a reproducible workflow for this course: team repo on GitHub, branching, Colab auth to BigQuery, and a PR checklist.\n",
        "\n",
        "**Run this prompt:**\n",
        "```\n",
        "Act as a DevEx lead for a university analytics team.\n",
        "Produce a one-page \"Runbook\" with:\n",
        "- Repo structure (folders for notebooks, data, dashboards, docs)\n",
        "- Branching model (who creates branches, when to merge)\n",
        "- Colab ↔ BigQuery quickstart (auth, sample query, cost-safe LIMIT)\n",
        "- PR checklist (max 8 bullets) and protection rules for main\n",
        "- Two risks + mitigations (e.g., secrets leakage, merge conflicts)\n",
        "Use concise bullets and keep it classroom-ready.\n",
        "```\n",
        "\n",
        "**Paste your final runbook below (or attach as a Markdown file in your repo) and add a 3‑bullet reflection on what you changed after validation.**\n"
      ]
    },
    {
      "cell_type": "markdown",
      "metadata": {
        "id": "704beab5"
      },
      "source": [
        "# University Analytics Team Runbook\n",
        "\n",
        "This runbook provides a quick guide to our team's development workflow using GitHub, Colab, and BigQuery.\n",
        "\n",
        "## 1. Repository Structure\n",
        "\n",
        "Organize your project within the repository with clear folders:\n",
        "\n",
        "*   `/notebooks`: For Colab notebooks (`.ipynb`). Organize further by unit or lab (e.g., `/notebooks/unit1/lab2`).\n",
        "*   `/data`: For small datasets used directly in notebooks (avoid committing large files; use cloud storage for large data).\n",
        "*   `/dashboards`: For dashboard definitions or code (e.g., Streamlit apps, Looker Studio models).\n",
        "*   `/docs`: For project documentation, reports, or presentations.\n",
        "*   `/src`: (Optional) For reusable Python scripts or modules.\n",
        "\n",
        "## 2. Branching Model\n",
        "\n",
        "We will use a simple feature branching model:\n",
        "\n",
        "*   **`main` Branch:** This branch is protected and represents the stable, working version of our project. No direct commits are allowed.\n",
        "*   **Feature Branches:** For every new feature, bug fix, or experiment, create a new branch off of `main`. Name branches descriptively (e.g., `feature/add-eda-plots`, `fix/bq-auth-error`).\n",
        "*   **Who Creates Branches:** Any team member working on a task creates their own feature branch.\n",
        "*   **When to Merge:** Merge your feature branch into `main` only after it has been reviewed and approved via a Pull Request and passes all checks.\n",
        "\n",
        "## 3. Colab ↔ BigQuery Quickstart\n",
        "\n",
        "Connecting Colab to BigQuery:\n",
        "\n",
        "1.  **Authenticate:** Run the following in a code cell:"
      ],
      "id": "704beab5"
    },
    {
      "cell_type": "code",
      "metadata": {
        "id": "9dfde328",
        "colab": {
          "base_uri": "https://localhost:8080/",
          "height": 97
        },
        "outputId": "e2407fb0-3027-47b2-e1ec-447746516606"
      },
      "source": [
        "from google.colab import auth\n",
        "auth.authenticate_user()\n",
        "\n",
        "# 2) Run a simple BigQuery SQL and get results into a pandas DataFrame\n",
        "from google.cloud import bigquery\n",
        "# Replace <YOUR_PROJECT_ID> with your actual GCP project ID\n",
        "client = bigquery.Client(project=\"mgmt467-71800\")\n",
        "\n",
        "# Use a simple query, e.g., SELECT 1\n",
        "# For larger queries, consider using LIMIT during exploration to control costs and memory usage.\n",
        "# BigQuery costs are based on the amount of data processed by your queries.\n",
        "sql = \"SELECT 1 AS test_col\" # Minimal example\n",
        "# Or use a sample from your data:\n",
        "# sql = \"SELECT * FROM `your_project_id.your_dataset.your_table` LIMIT 10\" # Example query\n",
        "\n",
        "df = client.query(sql).result().to_dataframe()\n",
        "\n",
        "# 3) Print row count\n",
        "print(\"Rows:\", len(df))\n",
        "\n",
        "# Display the first few rows\n",
        "display(df.head())"
      ],
      "id": "9dfde328",
      "execution_count": 11,
      "outputs": [
        {
          "output_type": "stream",
          "name": "stdout",
          "text": [
            "Rows: 1\n"
          ]
        },
        {
          "output_type": "display_data",
          "data": {
            "text/plain": [
              "   test_col\n",
              "0         1"
            ],
            "text/html": [
              "\n",
              "  <div id=\"df-7933115d-286a-426f-a5d5-1bfd69bd7bd9\" class=\"colab-df-container\">\n",
              "    <div>\n",
              "<style scoped>\n",
              "    .dataframe tbody tr th:only-of-type {\n",
              "        vertical-align: middle;\n",
              "    }\n",
              "\n",
              "    .dataframe tbody tr th {\n",
              "        vertical-align: top;\n",
              "    }\n",
              "\n",
              "    .dataframe thead th {\n",
              "        text-align: right;\n",
              "    }\n",
              "</style>\n",
              "<table border=\"1\" class=\"dataframe\">\n",
              "  <thead>\n",
              "    <tr style=\"text-align: right;\">\n",
              "      <th></th>\n",
              "      <th>test_col</th>\n",
              "    </tr>\n",
              "  </thead>\n",
              "  <tbody>\n",
              "    <tr>\n",
              "      <th>0</th>\n",
              "      <td>1</td>\n",
              "    </tr>\n",
              "  </tbody>\n",
              "</table>\n",
              "</div>\n",
              "    <div class=\"colab-df-buttons\">\n",
              "\n",
              "  <div class=\"colab-df-container\">\n",
              "    <button class=\"colab-df-convert\" onclick=\"convertToInteractive('df-7933115d-286a-426f-a5d5-1bfd69bd7bd9')\"\n",
              "            title=\"Convert this dataframe to an interactive table.\"\n",
              "            style=\"display:none;\">\n",
              "\n",
              "  <svg xmlns=\"http://www.w3.org/2000/svg\" height=\"24px\" viewBox=\"0 -960 960 960\">\n",
              "    <path d=\"M120-120v-720h720v720H120Zm60-500h600v-160H180v160Zm220 220h160v-160H400v160Zm0 220h160v-160H400v160ZM180-400h160v-160H180v160Zm440 0h160v-160H620v160ZM180-180h160v-160H180v160Zm440 0h160v-160H620v160Z\"/>\n",
              "  </svg>\n",
              "    </button>\n",
              "\n",
              "  <style>\n",
              "    .colab-df-container {\n",
              "      display:flex;\n",
              "      gap: 12px;\n",
              "    }\n",
              "\n",
              "    .colab-df-convert {\n",
              "      background-color: #E8F0FE;\n",
              "      border: none;\n",
              "      border-radius: 50%;\n",
              "      cursor: pointer;\n",
              "      display: none;\n",
              "      fill: #1967D2;\n",
              "      height: 32px;\n",
              "      padding: 0 0 0 0;\n",
              "      width: 32px;\n",
              "    }\n",
              "\n",
              "    .colab-df-convert:hover {\n",
              "      background-color: #E2EBFA;\n",
              "      box-shadow: 0px 1px 2px rgba(60, 64, 67, 0.3), 0px 1px 3px 1px rgba(60, 64, 67, 0.15);\n",
              "      fill: #174EA6;\n",
              "    }\n",
              "\n",
              "    .colab-df-buttons div {\n",
              "      margin-bottom: 4px;\n",
              "    }\n",
              "\n",
              "    [theme=dark] .colab-df-convert {\n",
              "      background-color: #3B4455;\n",
              "      fill: #D2E3FC;\n",
              "    }\n",
              "\n",
              "    [theme=dark] .colab-df-convert:hover {\n",
              "      background-color: #434B5C;\n",
              "      box-shadow: 0px 1px 3px 1px rgba(0, 0, 0, 0.15);\n",
              "      filter: drop-shadow(0px 1px 2px rgba(0, 0, 0, 0.3));\n",
              "      fill: #FFFFFF;\n",
              "    }\n",
              "  </style>\n",
              "\n",
              "    <script>\n",
              "      const buttonEl =\n",
              "        document.querySelector('#df-7933115d-286a-426f-a5d5-1bfd69bd7bd9 button.colab-df-convert');\n",
              "      buttonEl.style.display =\n",
              "        google.colab.kernel.accessAllowed ? 'block' : 'none';\n",
              "\n",
              "      async function convertToInteractive(key) {\n",
              "        const element = document.querySelector('#df-7933115d-286a-426f-a5d5-1bfd69bd7bd9');\n",
              "        const dataTable =\n",
              "          await google.colab.kernel.invokeFunction('convertToInteractive',\n",
              "                                                    [key], {});\n",
              "        if (!dataTable) return;\n",
              "\n",
              "        const docLinkHtml = 'Like what you see? Visit the ' +\n",
              "          '<a target=\"_blank\" href=https://colab.research.google.com/notebooks/data_table.ipynb>data table notebook</a>'\n",
              "          + ' to learn more about interactive tables.';\n",
              "        element.innerHTML = '';\n",
              "        dataTable['output_type'] = 'display_data';\n",
              "        await google.colab.output.renderOutput(dataTable, element);\n",
              "        const docLink = document.createElement('div');\n",
              "        docLink.innerHTML = docLinkHtml;\n",
              "        element.appendChild(docLink);\n",
              "      }\n",
              "    </script>\n",
              "  </div>\n",
              "\n",
              "\n",
              "    </div>\n",
              "  </div>\n"
            ],
            "application/vnd.google.colaboratory.intrinsic+json": {
              "type": "dataframe",
              "summary": "{\n  \"name\": \"display(df\",\n  \"rows\": 1,\n  \"fields\": [\n    {\n      \"column\": \"test_col\",\n      \"properties\": {\n        \"dtype\": \"Int64\",\n        \"num_unique_values\": 1,\n        \"samples\": [\n          1\n        ],\n        \"semantic_type\": \"\",\n        \"description\": \"\"\n      }\n    }\n  ]\n}"
            }
          },
          "metadata": {}
        }
      ]
    },
    {
      "cell_type": "markdown",
      "metadata": {
        "id": "90e1c554"
      },
      "source": [
        "## 4. Pull Request (PR) Checklist & Main Branch Protection\n",
        "\n",
        "To maintain code quality and a stable `main` branch:\n",
        "\n",
        "**PR Checklist (Before Requesting Review):**\n",
        "\n",
        "*   **PR Title:** Descriptive (`<unit>-<lab>-<short-desc>`).\n",
        "*   **Description:** Problem, approach, key files, testing notes.\n",
        "*   **Visuals (if applicable):** Include 1–2 relevant screenshots.\n",
        "*   **Linked Issue/Assignment:** Reference the relevant task.\n",
        "*   **Passes Checks:** Notebook runs top-to-bottom without errors; CI checks pass.\n",
        "*   **Clean Code:** No secrets, tokens, or PII in code or outputs.\n",
        "*   **Revert Plan:** Briefly note how to revert if needed.\n",
        "\n",
        "**Main Branch Protection Rules (Configured in GitHub Settings > Branches):**\n",
        "\n",
        "*   Require a pull request before merging.\n",
        "*   Require at least 1 approval.\n",
        "*   Require status checks to pass (if configured).\n",
        "*   Disallow force pushes.\n",
        "*   Include administrators.\n",
        "\n",
        "## 5. Risks and Mitigations\n",
        "\n",
        "Here are two common risks and how to mitigate them:\n",
        "\n",
        "*   **Risk:** Secrets or sensitive data (e.g., GCP credentials, API keys, PII) are accidentally committed to the repository.\n",
        "    *   **Mitigation:** Never hardcode secrets directly in notebooks or scripts. Use Colab's Secrets manager or environment variables. Be cautious with printing variables that might contain sensitive data. Review PRs carefully for secrets.\n",
        "\n",
        "*   **Risk:** Frequent or complex merge conflicts, especially in shared notebook files.\n",
        "    *   **Mitigation:** Work on separate branches for distinct tasks. Pull the latest changes from `main` frequently into your feature branch. Make small, focused commits. Communicate with teammates about who is working on which files. Use `nbdime` locally to help visualize notebook diffs."
      ],
      "id": "90e1c554"
    },
    {
      "cell_type": "markdown",
      "source": [
        "This list shows what has been changed in the code after validation or what could be change to further improve the runbook:\n",
        "\n",
        "*   Replace the placeholder project ID: Change \"mgmt467-71800\" in the bigquery.Client line to your specific Google Cloud Project ID where your BigQuery data resides.\n",
        "* Update the SQL query: Replace sql = \"SELECT 1 AS test_col\" with a query that selects data from your desired dataset and table in BigQuery. For example, sql = \"SELECT * FROM \\your_project_id.your_dataset.your_table` LIMIT 100\"`\n",
        "* Consider using LIMIT: As noted in the code comments, always use LIMIT during exploration to control the amount of data processed and manage costs. Adjust the LIMIT value based on your needs.\n",
        "\n",
        "\n"
      ],
      "metadata": {
        "id": "6cc3hZTKlfkl"
      },
      "id": "6cc3hZTKlfkl"
    },
    {
      "cell_type": "markdown",
      "id": "0aa9e3a2",
      "metadata": {
        "id": "0aa9e3a2"
      },
      "source": [
        "\n",
        "---\n",
        "## Submission Checklist (to your team repo + Brightspace link)\n",
        "\n",
        "- [ ] All **Reflection** sections completed (A1–A3, B1–B3, C1–C3, Capstone).\n",
        "- [ ] Any code snippets pasted are **validated** and include a 1‑line explanation.\n",
        "- [ ] Notebook runs top‑to‑bottom without errors (where code cells exist).\n",
        "- [ ] Commit message: `week2.1-prompt-practice` and open a PR for review.\n",
        "- [ ] Add this notebook path to your repo **README.md** under Week 2.1.\n"
      ]
    }
  ],
  "metadata": {
    "colab": {
      "provenance": [],
      "include_colab_link": true
    },
    "language_info": {
      "name": "python"
    },
    "kernelspec": {
      "name": "python3",
      "display_name": "Python 3"
    }
  },
  "nbformat": 4,
  "nbformat_minor": 5
}